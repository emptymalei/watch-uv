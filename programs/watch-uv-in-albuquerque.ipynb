{
 "cells": [
  {
   "cell_type": "code",
   "execution_count": 41,
   "metadata": {
    "collapsed": true
   },
   "outputs": [],
   "source": [
    "%matplotlib inline"
   ]
  },
  {
   "cell_type": "code",
   "execution_count": 69,
   "metadata": {
    "collapsed": true
   },
   "outputs": [],
   "source": [
    "import requests\n",
    "import json\n",
    "import matplotlib.pyplot as plt"
   ]
  },
  {
   "cell_type": "code",
   "execution_count": 120,
   "metadata": {
    "collapsed": false
   },
   "outputs": [
    {
     "data": {
      "image/png": "[encoded data removed]",
      "text/plain": [
       "<matplotlib.figure.Figure at 0x1088aef10>"
      ]
     },
     "metadata": {},
     "output_type": "display_data"
    }
   ],
   "source": [
    "# REST API docs at https://www.epa.gov/enviro/web-services#hourlyzip\n",
    "url = 'https://iaspub.epa.gov/enviro/efservice/getEnvirofactsUVHOURLY/ZIP/87106/JSON'\n",
    "uv = requests.get(url)\n",
    "\n",
    "uvjson = uv.json()\n",
    "uvjsonlen = len(uvjson)\n",
    "\n",
    "# print uvjson\n",
    "# print uvjson[0]['ORDER'], uvjson[0]['DATE_TIME'], uvjson[0]['UV_VALUE']\n",
    "# print uvjsonlen,range(uvjsonlen)\n",
    "\n",
    "x_order = [uvjson[i]['ORDER'] for i in range(uvjsonlen)]\n",
    "x_datetime = [uvjson[i]['DATE_TIME'] for i in range(uvjsonlen)]\n",
    "y_uv = [uvjson[i]['UV_VALUE'] for i in range(uvjsonlen)]\n",
    "\n",
    "x_hours = [hours[-5:] for hours in x_datetime]\n",
    "\n",
    "# print x_order, '\\n' , x_datetime, '\\n', y_uv, '\\n',  x_hours\n",
    "\n",
    "start_index = next((i for i, x in enumerate(y_uv) if x), None)\n",
    "end_index = start_index + 11\n",
    "\n",
    "plt.figure(figsize=(17,7))\n",
    "plt.bar(x_order[start_index:end_index], y_uv[start_index:end_index], color=\"orange\", align='center', alpha=0.6)\n",
    "plt.ylim(0,max(y_uv)+1)\n",
    "plt.xticks(x_order[start_index:end_index], x_hours[start_index:end_index]);\n",
    "plt.title('Watch UV in Albuquerque');\n",
    "plt.ylabel('UV Index in Albuquerque');"
   ]
  },
  {
   "cell_type": "markdown",
   "metadata": {},
   "source": [
    "## Using Plotly"
   ]
  },
  {
   "cell_type": "code",
   "execution_count": 117,
   "metadata": {
    "collapsed": true
   },
   "outputs": [],
   "source": [
    "import plotly.plotly as py\n",
    "from plotly.graph_objs import *"
   ]
  },
  {
   "cell_type": "code",
   "execution_count": 118,
   "metadata": {
    "collapsed": false
   },
   "outputs": [
    {
     "data": {
      "text/html": [
       "<iframe id=\"igraph\" scrolling=\"no\" style=\"border:none;\"seamless=\"seamless\" src=\"https://plot.ly/~emptymalei/197.embed\" height=\"525\" width=\"100%\"></iframe>"
      ],
      "text/plain": [
       "<plotly.tools.PlotlyDisplay object>"
      ]
     },
     "execution_count": 118,
     "metadata": {},
     "output_type": "execute_result"
    }
   ],
   "source": [
    "plydata = Bar(\n",
    "  x=x_hours,\n",
    "  y=y_uv\n",
    ")\n",
    "\n",
    "data = Data([plydata])\n",
    "\n",
    "py.iplot(data, filename = 'Albuquerque Watch UV Index')"
   ]
  },
  {
   "cell_type": "code",
   "execution_count": null,
   "metadata": {
    "collapsed": true
   },
   "outputs": [],
   "source": []
  }
 ],
 "metadata": {
  "kernelspec": {
   "display_name": "Python 2",
   "language": "python",
   "name": "python2"
  },
  "language_info": {
   "codemirror_mode": {
    "name": "ipython",
    "version": 2
   },
   "file_extension": ".py",
   "mimetype": "text/x-python",
   "name": "python",
   "nbconvert_exporter": "python",
   "pygments_lexer": "ipython2",
   "version": "2.7.11"
  }
 },
 "nbformat": 4,
 "nbformat_minor": 0
}
